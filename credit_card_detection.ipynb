{
 "cells": [
  {
   "cell_type": "code",
   "execution_count": 1,
   "id": "21faaf47-10eb-4c0a-b203-dc64fc4bdb0d",
   "metadata": {},
   "outputs": [],
   "source": [
    "import numpy as np\n",
    "# linear algebra\n",
    "import pandas as pd \n",
    "\n",
    "# data processing, CSV file I/O (e.g. pd.read_csv)\n"
   ]
  },
  {
   "cell_type": "code",
   "execution_count": null,
   "id": "3d4944cc-abeb-4ca7-974a-cc3353291a10",
   "metadata": {},
   "outputs": [],
   "source": [
    "fraud_test=pd.read_csv(\"C:\\\\Users\\\\sanjay kumar saini\\\\OneDrive\\\\Desktop\\\\maths\\\\fraud.csv\")\n",
    "fraud_train=pd.read_csv(\"C:\\\\Users\\\\sanjay kumar saini\\\\OneDrive\\\\Desktop\\\\maths\\\\fraudtrain.csv\")"
   ]
  },
  {
   "cell_type": "code",
   "execution_count": null,
   "id": "ef7fa235-2814-4321-b265-969e7528ed2e",
   "metadata": {},
   "outputs": [
    {
     "name": "stdout",
     "output_type": "stream",
     "text": [
      "(555719, 23)\n",
      "(1048575, 23)\n"
     ]
    }
   ],
   "source": [
    "print(fraud_test.shape)\n",
    "print(fraud_train.shape)"
   ]
  },
  {
   "cell_type": "code",
   "execution_count": null,
   "id": "4717b98b-8b05-4661-8c09-e70a1f4dc4b5",
   "metadata": {},
   "outputs": [
    {
     "data": {
      "text/plain": [
       "Index(['Unnamed: 0', 'trans_date_trans_time', 'cc_num', 'merchant', 'category',\n",
       "       'amt', 'first', 'last', 'gender', 'street', 'city', 'state', 'zip',\n",
       "       'lat', 'long', 'city_pop', 'job', 'dob', 'trans_num', 'unix_time',\n",
       "       'merch_lat', 'merch_long', 'is_fraud'],\n",
       "      dtype='object')"
      ]
     },
     "execution_count": 416,
     "metadata": {},
     "output_type": "execute_result"
    }
   ],
   "source": [
    "fraud_train.columns"
   ]
  },
  {
   "cell_type": "code",
   "execution_count": null,
   "id": "333a03cc-db65-475d-aff8-61d277beb61a",
   "metadata": {},
   "outputs": [
    {
     "data": {
      "text/plain": [
       "Index(['Unnamed: 0', 'trans_date_trans_time', 'cc_num', 'merchant', 'category',\n",
       "       'amt', 'first', 'last', 'gender', 'street', 'city', 'state', 'zip',\n",
       "       'lat', 'long', 'city_pop', 'job', 'dob', 'trans_num', 'unix_time',\n",
       "       'merch_lat', 'merch_long', 'is_fraud'],\n",
       "      dtype='object')"
      ]
     },
     "execution_count": 417,
     "metadata": {},
     "output_type": "execute_result"
    }
   ],
   "source": [
    "fraud_test.columns"
   ]
  },
  {
   "cell_type": "code",
   "execution_count": null,
   "id": "a7ae4f9f-c3b5-4a74-8227-7ae9a127487c",
   "metadata": {},
   "outputs": [],
   "source": [
    "fraud_train=fraud_train.drop(columns=[\"Unnamed: 0\",\"cc_num\",\"merchant\",\"first\",\"last\",\"gender\",\"city\",\"state\",\"job\"])\n",
    "fraud_test=fraud_test.drop(columns=[\"Unnamed: 0\",\"cc_num\",\"merchant\",\"first\",\"last\",\"gender\",\"city\",\"state\",\"job\"])"
   ]
  },
  {
   "cell_type": "code",
   "execution_count": null,
   "id": "a9183505-c408-4de4-b417-22179f27ba3e",
   "metadata": {
    "scrolled": true
   },
   "outputs": [
    {
     "data": {
      "text/html": [
       "<div>\n",
       "<style scoped>\n",
       "    .dataframe tbody tr th:only-of-type {\n",
       "        vertical-align: middle;\n",
       "    }\n",
       "\n",
       "    .dataframe tbody tr th {\n",
       "        vertical-align: top;\n",
       "    }\n",
       "\n",
       "    .dataframe thead th {\n",
       "        text-align: right;\n",
       "    }\n",
       "</style>\n",
       "<table border=\"1\" class=\"dataframe\">\n",
       "  <thead>\n",
       "    <tr style=\"text-align: right;\">\n",
       "      <th></th>\n",
       "      <th>trans_date_trans_time</th>\n",
       "      <th>category</th>\n",
       "      <th>amt</th>\n",
       "      <th>street</th>\n",
       "      <th>zip</th>\n",
       "      <th>lat</th>\n",
       "      <th>long</th>\n",
       "      <th>city_pop</th>\n",
       "      <th>dob</th>\n",
       "      <th>trans_num</th>\n",
       "      <th>unix_time</th>\n",
       "      <th>merch_lat</th>\n",
       "      <th>merch_long</th>\n",
       "      <th>is_fraud</th>\n",
       "    </tr>\n",
       "  </thead>\n",
       "  <tbody>\n",
       "    <tr>\n",
       "      <th>0</th>\n",
       "      <td>01-01-2019 00:00</td>\n",
       "      <td>misc_net</td>\n",
       "      <td>4.97</td>\n",
       "      <td>561 Perry Cove</td>\n",
       "      <td>28654</td>\n",
       "      <td>36.0788</td>\n",
       "      <td>-81.1781</td>\n",
       "      <td>3495</td>\n",
       "      <td>09-03-1988</td>\n",
       "      <td>0b242abb623afc578575680df30655b9</td>\n",
       "      <td>1325376018</td>\n",
       "      <td>36.011293</td>\n",
       "      <td>-82.048315</td>\n",
       "      <td>0</td>\n",
       "    </tr>\n",
       "    <tr>\n",
       "      <th>1</th>\n",
       "      <td>01-01-2019 00:00</td>\n",
       "      <td>grocery_pos</td>\n",
       "      <td>107.23</td>\n",
       "      <td>43039 Riley Greens Suite 393</td>\n",
       "      <td>99160</td>\n",
       "      <td>48.8878</td>\n",
       "      <td>-118.2105</td>\n",
       "      <td>149</td>\n",
       "      <td>21-06-1978</td>\n",
       "      <td>1f76529f8574734946361c461b024d99</td>\n",
       "      <td>1325376044</td>\n",
       "      <td>49.159047</td>\n",
       "      <td>-118.186462</td>\n",
       "      <td>0</td>\n",
       "    </tr>\n",
       "    <tr>\n",
       "      <th>2</th>\n",
       "      <td>01-01-2019 00:00</td>\n",
       "      <td>entertainment</td>\n",
       "      <td>220.11</td>\n",
       "      <td>594 White Dale Suite 530</td>\n",
       "      <td>83252</td>\n",
       "      <td>42.1808</td>\n",
       "      <td>-112.2620</td>\n",
       "      <td>4154</td>\n",
       "      <td>19-01-1962</td>\n",
       "      <td>a1a22d70485983eac12b5b88dad1cf95</td>\n",
       "      <td>1325376051</td>\n",
       "      <td>43.150704</td>\n",
       "      <td>-112.154481</td>\n",
       "      <td>0</td>\n",
       "    </tr>\n",
       "    <tr>\n",
       "      <th>3</th>\n",
       "      <td>01-01-2019 00:01</td>\n",
       "      <td>gas_transport</td>\n",
       "      <td>45.00</td>\n",
       "      <td>9443 Cynthia Court Apt. 038</td>\n",
       "      <td>59632</td>\n",
       "      <td>46.2306</td>\n",
       "      <td>-112.1138</td>\n",
       "      <td>1939</td>\n",
       "      <td>12-01-1967</td>\n",
       "      <td>6b849c168bdad6f867558c3793159a81</td>\n",
       "      <td>1325376076</td>\n",
       "      <td>47.034331</td>\n",
       "      <td>-112.561071</td>\n",
       "      <td>0</td>\n",
       "    </tr>\n",
       "    <tr>\n",
       "      <th>4</th>\n",
       "      <td>01-01-2019 00:03</td>\n",
       "      <td>misc_pos</td>\n",
       "      <td>41.96</td>\n",
       "      <td>408 Bradley Rest</td>\n",
       "      <td>24433</td>\n",
       "      <td>38.4207</td>\n",
       "      <td>-79.4629</td>\n",
       "      <td>99</td>\n",
       "      <td>28-03-1986</td>\n",
       "      <td>a41d7549acf90789359a9aa5346dcb46</td>\n",
       "      <td>1325376186</td>\n",
       "      <td>38.674999</td>\n",
       "      <td>-78.632459</td>\n",
       "      <td>0</td>\n",
       "    </tr>\n",
       "  </tbody>\n",
       "</table>\n",
       "</div>"
      ],
      "text/plain": [
       "  trans_date_trans_time       category     amt                        street  \\\n",
       "0      01-01-2019 00:00       misc_net    4.97                561 Perry Cove   \n",
       "1      01-01-2019 00:00    grocery_pos  107.23  43039 Riley Greens Suite 393   \n",
       "2      01-01-2019 00:00  entertainment  220.11      594 White Dale Suite 530   \n",
       "3      01-01-2019 00:01  gas_transport   45.00   9443 Cynthia Court Apt. 038   \n",
       "4      01-01-2019 00:03       misc_pos   41.96              408 Bradley Rest   \n",
       "\n",
       "     zip      lat      long  city_pop         dob  \\\n",
       "0  28654  36.0788  -81.1781      3495  09-03-1988   \n",
       "1  99160  48.8878 -118.2105       149  21-06-1978   \n",
       "2  83252  42.1808 -112.2620      4154  19-01-1962   \n",
       "3  59632  46.2306 -112.1138      1939  12-01-1967   \n",
       "4  24433  38.4207  -79.4629        99  28-03-1986   \n",
       "\n",
       "                          trans_num   unix_time  merch_lat  merch_long  \\\n",
       "0  0b242abb623afc578575680df30655b9  1325376018  36.011293  -82.048315   \n",
       "1  1f76529f8574734946361c461b024d99  1325376044  49.159047 -118.186462   \n",
       "2  a1a22d70485983eac12b5b88dad1cf95  1325376051  43.150704 -112.154481   \n",
       "3  6b849c168bdad6f867558c3793159a81  1325376076  47.034331 -112.561071   \n",
       "4  a41d7549acf90789359a9aa5346dcb46  1325376186  38.674999  -78.632459   \n",
       "\n",
       "   is_fraud  \n",
       "0         0  \n",
       "1         0  \n",
       "2         0  \n",
       "3         0  \n",
       "4         0  "
      ]
     },
     "execution_count": 419,
     "metadata": {},
     "output_type": "execute_result"
    }
   ],
   "source": [
    "fraud_train.head()"
   ]
  },
  {
   "cell_type": "code",
   "execution_count": null,
   "id": "55c4628d-1550-4df9-8434-f4355c40958b",
   "metadata": {},
   "outputs": [],
   "source": [
    "def parse_dates(date_str):\n",
    "    for fmt in ('%d-%m-%Y %H:%M', '%d/%m/%Y %H:%M'):\n",
    "        try:\n",
    "            return pd.to_datetime(date_str, format=fmt)\n",
    "        except ValueError:\n",
    "            continue\n",
    "    return pd.NaT\n",
    "# Apply the function to the column\n",
    "fraud_train['trans_date_trans_time'] = fraud_train['trans_date_trans_time'].apply(parse_dates)\n",
    "\n",
    "# Drop rows with invalid dates\n",
    "fraud_train = fraud_train.dropna(subset=['trans_date_trans_time'])\n",
    "\n",
    "# Convert to integer format\n",
    "fraud_train['trans_date_trans_time_int'] = fraud_train['trans_date_trans_time'].view('int64')\n"
   ]
  },
  {
   "cell_type": "code",
   "execution_count": null,
   "id": "3ab56aad-5345-4ba8-a220-d73d1d019069",
   "metadata": {
    "scrolled": true
   },
   "outputs": [
    {
     "name": "stdout",
     "output_type": "stream",
     "text": [
      "<class 'pandas.core.frame.DataFrame'>\n",
      "RangeIndex: 1048575 entries, 0 to 1048574\n",
      "Data columns (total 15 columns):\n",
      " #   Column                     Non-Null Count    Dtype         \n",
      "---  ------                     --------------    -----         \n",
      " 0   trans_date_trans_time      1048575 non-null  datetime64[ns]\n",
      " 1   category                   1048575 non-null  object        \n",
      " 2   amt                        1048575 non-null  float64       \n",
      " 3   street                     1048575 non-null  object        \n",
      " 4   zip                        1048575 non-null  int64         \n",
      " 5   lat                        1048575 non-null  float64       \n",
      " 6   long                       1048575 non-null  float64       \n",
      " 7   city_pop                   1048575 non-null  int64         \n",
      " 8   dob                        1048575 non-null  object        \n",
      " 9   trans_num                  1048575 non-null  object        \n",
      " 10  unix_time                  1048575 non-null  int64         \n",
      " 11  merch_lat                  1048575 non-null  float64       \n",
      " 12  merch_long                 1048575 non-null  float64       \n",
      " 13  is_fraud                   1048575 non-null  int64         \n",
      " 14  trans_date_trans_time_int  1048575 non-null  int64         \n",
      "dtypes: datetime64[ns](1), float64(5), int64(5), object(4)\n",
      "memory usage: 120.0+ MB\n"
     ]
    }
   ],
   "source": [
    "fraud_train.info()"
   ]
  },
  {
   "cell_type": "code",
   "execution_count": null,
   "id": "66a44e25-35e0-4244-8cb7-1ef5df6389cb",
   "metadata": {},
   "outputs": [],
   "source": [
    "fraud_train['unix_time'] = pd.to_datetime(fraud_train['unix_time'],unit='s')\n",
    "fraud_train['dob'] = pd.to_datetime(fraud_train['dob'],format='%d-%m-%Y')"
   ]
  },
  {
   "cell_type": "code",
   "execution_count": null,
   "id": "cc53f026-1fcd-4337-8f84-6be473428b5b",
   "metadata": {},
   "outputs": [
    {
     "name": "stdout",
     "output_type": "stream",
     "text": [
      "<class 'pandas.core.frame.DataFrame'>\n",
      "RangeIndex: 1048575 entries, 0 to 1048574\n",
      "Data columns (total 15 columns):\n",
      " #   Column                     Non-Null Count    Dtype         \n",
      "---  ------                     --------------    -----         \n",
      " 0   trans_date_trans_time      1048575 non-null  datetime64[ns]\n",
      " 1   category                   1048575 non-null  object        \n",
      " 2   amt                        1048575 non-null  float64       \n",
      " 3   street                     1048575 non-null  object        \n",
      " 4   zip                        1048575 non-null  int64         \n",
      " 5   lat                        1048575 non-null  float64       \n",
      " 6   long                       1048575 non-null  float64       \n",
      " 7   city_pop                   1048575 non-null  int64         \n",
      " 8   dob                        1048575 non-null  datetime64[ns]\n",
      " 9   trans_num                  1048575 non-null  object        \n",
      " 10  unix_time                  1048575 non-null  datetime64[ns]\n",
      " 11  merch_lat                  1048575 non-null  float64       \n",
      " 12  merch_long                 1048575 non-null  float64       \n",
      " 13  is_fraud                   1048575 non-null  int64         \n",
      " 14  trans_date_trans_time_int  1048575 non-null  int64         \n",
      "dtypes: datetime64[ns](3), float64(5), int64(4), object(3)\n",
      "memory usage: 120.0+ MB\n"
     ]
    }
   ],
   "source": [
    "fraud_train.info()"
   ]
  },
  {
   "cell_type": "code",
   "execution_count": null,
   "id": "5088d3d7-72dd-466c-bef6-8a6ec739e08c",
   "metadata": {},
   "outputs": [],
   "source": [
    "def parse_dates(date_str):\n",
    "    for fmt in ('%d-%m-%Y %H:%M', '%d/%m/%Y %H:%M'):\n",
    "        try:\n",
    "            return pd.to_datetime(date_str, format=fmt)\n",
    "        except ValueError:\n",
    "            continue\n",
    "    return pd.NaT\n",
    "# Apply the function to the column\n",
    "fraud_test['trans_date_trans_time'] = fraud_test['trans_date_trans_time'].apply(parse_dates)\n",
    "\n",
    "# Drop rows with invalid dates\n",
    "fraud_test = fraud_test.dropna(subset=['trans_date_trans_time'])\n",
    "\n",
    "# Convert to integer format\n",
    "fraud_test['trans_date_trans_time_int'] = fraud_test['trans_date_trans_time'].view('int64')\n",
    "  "
   ]
  },
  {
   "cell_type": "code",
   "execution_count": null,
   "id": "208f6f6a-1a96-408d-9a0c-b6764584655a",
   "metadata": {},
   "outputs": [
    {
     "name": "stdout",
     "output_type": "stream",
     "text": [
      "<class 'pandas.core.frame.DataFrame'>\n",
      "RangeIndex: 555719 entries, 0 to 555718\n",
      "Data columns (total 15 columns):\n",
      " #   Column                     Non-Null Count   Dtype         \n",
      "---  ------                     --------------   -----         \n",
      " 0   trans_date_trans_time      555719 non-null  datetime64[ns]\n",
      " 1   category                   555719 non-null  object        \n",
      " 2   amt                        555719 non-null  float64       \n",
      " 3   street                     555719 non-null  object        \n",
      " 4   zip                        555719 non-null  int64         \n",
      " 5   lat                        555719 non-null  float64       \n",
      " 6   long                       555719 non-null  float64       \n",
      " 7   city_pop                   555719 non-null  int64         \n",
      " 8   dob                        555719 non-null  object        \n",
      " 9   trans_num                  555719 non-null  object        \n",
      " 10  unix_time                  555719 non-null  int64         \n",
      " 11  merch_lat                  555719 non-null  float64       \n",
      " 12  merch_long                 555719 non-null  float64       \n",
      " 13  is_fraud                   555719 non-null  int64         \n",
      " 14  trans_date_trans_time_int  555719 non-null  int64         \n",
      "dtypes: datetime64[ns](1), float64(5), int64(5), object(4)\n",
      "memory usage: 63.6+ MB\n"
     ]
    }
   ],
   "source": [
    "fraud_test.info()"
   ]
  },
  {
   "cell_type": "code",
   "execution_count": null,
   "id": "ea07a897-dac4-44a6-8cc9-a17cfeb5ed73",
   "metadata": {},
   "outputs": [],
   "source": [
    "fraud_train['unix_time'] = pd.to_datetime(fraud_train['unix_time'],unit='s')\n",
    "fraud_train['dob'] = pd.to_datetime(fraud_train['dob'],format='%d-%m-%Y')"
   ]
  },
  {
   "cell_type": "code",
   "execution_count": null,
   "id": "ceb7e5ee-c4a7-4bd7-a178-a321e024e11a",
   "metadata": {},
   "outputs": [
    {
     "name": "stdout",
     "output_type": "stream",
     "text": [
      "<class 'pandas.core.frame.DataFrame'>\n",
      "RangeIndex: 555719 entries, 0 to 555718\n",
      "Data columns (total 15 columns):\n",
      " #   Column                     Non-Null Count   Dtype         \n",
      "---  ------                     --------------   -----         \n",
      " 0   trans_date_trans_time      555719 non-null  datetime64[ns]\n",
      " 1   category                   555719 non-null  object        \n",
      " 2   amt                        555719 non-null  float64       \n",
      " 3   street                     555719 non-null  object        \n",
      " 4   zip                        555719 non-null  int64         \n",
      " 5   lat                        555719 non-null  float64       \n",
      " 6   long                       555719 non-null  float64       \n",
      " 7   city_pop                   555719 non-null  int64         \n",
      " 8   dob                        555719 non-null  object        \n",
      " 9   trans_num                  555719 non-null  object        \n",
      " 10  unix_time                  555719 non-null  int64         \n",
      " 11  merch_lat                  555719 non-null  float64       \n",
      " 12  merch_long                 555719 non-null  float64       \n",
      " 13  is_fraud                   555719 non-null  int64         \n",
      " 14  trans_date_trans_time_int  555719 non-null  int64         \n",
      "dtypes: datetime64[ns](1), float64(5), int64(5), object(4)\n",
      "memory usage: 63.6+ MB\n"
     ]
    }
   ],
   "source": [
    "fraud_test.info()"
   ]
  },
  {
   "cell_type": "code",
   "execution_count": null,
   "id": "e06628d3-1231-4832-a8dd-6b8c342c5933",
   "metadata": {},
   "outputs": [],
   "source": [
    "fraud_train=fraud_train.drop(columns=[\"trans_date_trans_time_int\"])"
   ]
  },
  {
   "cell_type": "code",
   "execution_count": null,
   "id": "632e4aa3-4be6-4155-b60d-2b658659ffc0",
   "metadata": {},
   "outputs": [
    {
     "name": "stdout",
     "output_type": "stream",
     "text": [
      "<class 'pandas.core.frame.DataFrame'>\n",
      "RangeIndex: 1048575 entries, 0 to 1048574\n",
      "Data columns (total 14 columns):\n",
      " #   Column                 Non-Null Count    Dtype         \n",
      "---  ------                 --------------    -----         \n",
      " 0   trans_date_trans_time  1048575 non-null  datetime64[ns]\n",
      " 1   category               1048575 non-null  object        \n",
      " 2   amt                    1048575 non-null  float64       \n",
      " 3   street                 1048575 non-null  object        \n",
      " 4   zip                    1048575 non-null  int64         \n",
      " 5   lat                    1048575 non-null  float64       \n",
      " 6   long                   1048575 non-null  float64       \n",
      " 7   city_pop               1048575 non-null  int64         \n",
      " 8   dob                    1048575 non-null  datetime64[ns]\n",
      " 9   trans_num              1048575 non-null  object        \n",
      " 10  unix_time              1048575 non-null  datetime64[ns]\n",
      " 11  merch_lat              1048575 non-null  float64       \n",
      " 12  merch_long             1048575 non-null  float64       \n",
      " 13  is_fraud               1048575 non-null  int64         \n",
      "dtypes: datetime64[ns](3), float64(5), int64(3), object(3)\n",
      "memory usage: 112.0+ MB\n"
     ]
    }
   ],
   "source": [
    "fraud_train.info()"
   ]
  },
  {
   "cell_type": "code",
   "execution_count": null,
   "id": "a83a10c7-6be3-439f-ba7a-c9a2e015125b",
   "metadata": {},
   "outputs": [],
   "source": [
    "fraud_train=fraud_train.drop(columns=[\"trans_num\"])\n",
    "fraud_test=fraud_test.drop(columns=[\"trans_num\"])"
   ]
  },
  {
   "cell_type": "code",
   "execution_count": null,
   "id": "743abea1-99d6-47a5-b181-5f2934314d88",
   "metadata": {},
   "outputs": [
    {
     "name": "stdout",
     "output_type": "stream",
     "text": [
      "<class 'pandas.core.frame.DataFrame'>\n",
      "RangeIndex: 1048575 entries, 0 to 1048574\n",
      "Data columns (total 13 columns):\n",
      " #   Column                 Non-Null Count    Dtype         \n",
      "---  ------                 --------------    -----         \n",
      " 0   trans_date_trans_time  1048575 non-null  datetime64[ns]\n",
      " 1   category               1048575 non-null  object        \n",
      " 2   amt                    1048575 non-null  float64       \n",
      " 3   street                 1048575 non-null  object        \n",
      " 4   zip                    1048575 non-null  int64         \n",
      " 5   lat                    1048575 non-null  float64       \n",
      " 6   long                   1048575 non-null  float64       \n",
      " 7   city_pop               1048575 non-null  int64         \n",
      " 8   dob                    1048575 non-null  datetime64[ns]\n",
      " 9   unix_time              1048575 non-null  datetime64[ns]\n",
      " 10  merch_lat              1048575 non-null  float64       \n",
      " 11  merch_long             1048575 non-null  float64       \n",
      " 12  is_fraud               1048575 non-null  int64         \n",
      "dtypes: datetime64[ns](3), float64(5), int64(3), object(2)\n",
      "memory usage: 104.0+ MB\n"
     ]
    }
   ],
   "source": [
    "fraud_train.info()"
   ]
  },
  {
   "cell_type": "code",
   "execution_count": null,
   "id": "e6037dfe-5f1d-48a7-bd39-4000eae0e982",
   "metadata": {},
   "outputs": [],
   "source": [
    "columns_to_be_encoded=[\"category\"]"
   ]
  },
  {
   "cell_type": "code",
   "execution_count": null,
   "id": "0eae4563-6051-4932-88b0-497158d5fa01",
   "metadata": {},
   "outputs": [],
   "source": [
    "from sklearn.compose import ColumnTransformer\n",
    "from sklearn.preprocessing import OneHotEncoder\n",
    "\n",
    "preprocessor = ColumnTransformer(\n",
    "    transformers=[\n",
    "        ('cat', OneHotEncoder(), columns_to_be_encoded)\n",
    "    ],\n",
    "    remainder='passthrough'  # Keep the rest of the columns as they are\n",
    ")\n"
   ]
  },
  {
   "cell_type": "code",
   "execution_count": null,
   "id": "fdae60a1-9691-4a33-94b2-06180b26f7c6",
   "metadata": {},
   "outputs": [],
   "source": [
    "fraud_train_encoded = preprocessor.fit_transform(fraud_train)\n",
    "fraud_train_encoded = pd.DataFrame(fraud_train_encoded, columns=preprocessor.get_feature_names_out())"
   ]
  },
  {
   "cell_type": "code",
   "execution_count": null,
   "id": "e466eea9-f55c-4806-bbe2-91d7090c7851",
   "metadata": {},
   "outputs": [],
   "source": [
    "fraud_test_encoded = preprocessor.transform(fraud_test)\n",
    "fraud_test_encoded = pd.DataFrame(fraud_test_encoded, columns=preprocessor.get_feature_names_out())"
   ]
  },
  {
   "cell_type": "code",
   "execution_count": null,
   "id": "8a881e9a-5648-4549-b14b-58c24147a01c",
   "metadata": {},
   "outputs": [
    {
     "data": {
      "text/html": [
       "<div>\n",
       "<style scoped>\n",
       "    .dataframe tbody tr th:only-of-type {\n",
       "        vertical-align: middle;\n",
       "    }\n",
       "\n",
       "    .dataframe tbody tr th {\n",
       "        vertical-align: top;\n",
       "    }\n",
       "\n",
       "    .dataframe thead th {\n",
       "        text-align: right;\n",
       "    }\n",
       "</style>\n",
       "<table border=\"1\" class=\"dataframe\">\n",
       "  <thead>\n",
       "    <tr style=\"text-align: right;\">\n",
       "      <th></th>\n",
       "      <th>trans_date_trans_time</th>\n",
       "      <th>amt</th>\n",
       "      <th>street</th>\n",
       "      <th>zip</th>\n",
       "      <th>lat</th>\n",
       "      <th>long</th>\n",
       "      <th>city_pop</th>\n",
       "      <th>dob</th>\n",
       "      <th>unix_time</th>\n",
       "      <th>merch_lat</th>\n",
       "      <th>merch_long</th>\n",
       "      <th>is_fraud</th>\n",
       "      <th>trans_date_trans_time_int</th>\n",
       "    </tr>\n",
       "  </thead>\n",
       "  <tbody>\n",
       "    <tr>\n",
       "      <th>0</th>\n",
       "      <td>2020-06-21 12:14:00</td>\n",
       "      <td>2.86</td>\n",
       "      <td>351 Darlene Green</td>\n",
       "      <td>29209</td>\n",
       "      <td>33.9659</td>\n",
       "      <td>-80.9355</td>\n",
       "      <td>333497</td>\n",
       "      <td>19-03-1968</td>\n",
       "      <td>1371816865</td>\n",
       "      <td>33.986391</td>\n",
       "      <td>-81.200714</td>\n",
       "      <td>0</td>\n",
       "      <td>1592741640000000000</td>\n",
       "    </tr>\n",
       "    <tr>\n",
       "      <th>1</th>\n",
       "      <td>2020-06-21 12:14:00</td>\n",
       "      <td>29.84</td>\n",
       "      <td>3638 Marsh Union</td>\n",
       "      <td>84002</td>\n",
       "      <td>40.3207</td>\n",
       "      <td>-110.4360</td>\n",
       "      <td>302</td>\n",
       "      <td>17-01-1990</td>\n",
       "      <td>1371816873</td>\n",
       "      <td>39.450498</td>\n",
       "      <td>-109.960431</td>\n",
       "      <td>0</td>\n",
       "      <td>1592741640000000000</td>\n",
       "    </tr>\n",
       "    <tr>\n",
       "      <th>2</th>\n",
       "      <td>2020-06-21 12:14:00</td>\n",
       "      <td>41.28</td>\n",
       "      <td>9333 Valentine Point</td>\n",
       "      <td>11710</td>\n",
       "      <td>40.6729</td>\n",
       "      <td>-73.5365</td>\n",
       "      <td>34496</td>\n",
       "      <td>21-10-1970</td>\n",
       "      <td>1371816893</td>\n",
       "      <td>40.495810</td>\n",
       "      <td>-74.196111</td>\n",
       "      <td>0</td>\n",
       "      <td>1592741640000000000</td>\n",
       "    </tr>\n",
       "    <tr>\n",
       "      <th>3</th>\n",
       "      <td>2020-06-21 12:15:00</td>\n",
       "      <td>60.05</td>\n",
       "      <td>32941 Krystal Mill Apt. 552</td>\n",
       "      <td>32780</td>\n",
       "      <td>28.5697</td>\n",
       "      <td>-80.8191</td>\n",
       "      <td>54767</td>\n",
       "      <td>25-07-1987</td>\n",
       "      <td>1371816915</td>\n",
       "      <td>28.812398</td>\n",
       "      <td>-80.883061</td>\n",
       "      <td>0</td>\n",
       "      <td>1592741700000000000</td>\n",
       "    </tr>\n",
       "    <tr>\n",
       "      <th>4</th>\n",
       "      <td>2020-06-21 12:15:00</td>\n",
       "      <td>3.19</td>\n",
       "      <td>5783 Evan Roads Apt. 465</td>\n",
       "      <td>49632</td>\n",
       "      <td>44.2529</td>\n",
       "      <td>-85.0170</td>\n",
       "      <td>1126</td>\n",
       "      <td>06-07-1955</td>\n",
       "      <td>1371816917</td>\n",
       "      <td>44.959148</td>\n",
       "      <td>-85.884734</td>\n",
       "      <td>0</td>\n",
       "      <td>1592741700000000000</td>\n",
       "    </tr>\n",
       "    <tr>\n",
       "      <th>...</th>\n",
       "      <td>...</td>\n",
       "      <td>...</td>\n",
       "      <td>...</td>\n",
       "      <td>...</td>\n",
       "      <td>...</td>\n",
       "      <td>...</td>\n",
       "      <td>...</td>\n",
       "      <td>...</td>\n",
       "      <td>...</td>\n",
       "      <td>...</td>\n",
       "      <td>...</td>\n",
       "      <td>...</td>\n",
       "      <td>...</td>\n",
       "    </tr>\n",
       "    <tr>\n",
       "      <th>555714</th>\n",
       "      <td>2020-12-31 23:59:00</td>\n",
       "      <td>43.77</td>\n",
       "      <td>558 Michael Estates</td>\n",
       "      <td>63453</td>\n",
       "      <td>40.4931</td>\n",
       "      <td>-91.8912</td>\n",
       "      <td>519</td>\n",
       "      <td>13-02-1966</td>\n",
       "      <td>1388534347</td>\n",
       "      <td>39.946837</td>\n",
       "      <td>-91.333331</td>\n",
       "      <td>0</td>\n",
       "      <td>1609459140000000000</td>\n",
       "    </tr>\n",
       "    <tr>\n",
       "      <th>555715</th>\n",
       "      <td>2020-12-31 23:59:00</td>\n",
       "      <td>111.84</td>\n",
       "      <td>572 Davis Mountains</td>\n",
       "      <td>77566</td>\n",
       "      <td>29.0393</td>\n",
       "      <td>-95.4401</td>\n",
       "      <td>28739</td>\n",
       "      <td>27-12-1999</td>\n",
       "      <td>1388534349</td>\n",
       "      <td>29.661049</td>\n",
       "      <td>-96.186633</td>\n",
       "      <td>0</td>\n",
       "      <td>1609459140000000000</td>\n",
       "    </tr>\n",
       "    <tr>\n",
       "      <th>555716</th>\n",
       "      <td>2020-12-31 23:59:00</td>\n",
       "      <td>86.88</td>\n",
       "      <td>144 Evans Islands Apt. 683</td>\n",
       "      <td>99323</td>\n",
       "      <td>46.1966</td>\n",
       "      <td>-118.9017</td>\n",
       "      <td>3684</td>\n",
       "      <td>29-11-1981</td>\n",
       "      <td>1388534355</td>\n",
       "      <td>46.658340</td>\n",
       "      <td>-119.715054</td>\n",
       "      <td>0</td>\n",
       "      <td>1609459140000000000</td>\n",
       "    </tr>\n",
       "    <tr>\n",
       "      <th>555717</th>\n",
       "      <td>2020-12-31 23:59:00</td>\n",
       "      <td>7.99</td>\n",
       "      <td>7020 Doyle Stream Apt. 951</td>\n",
       "      <td>83643</td>\n",
       "      <td>44.6255</td>\n",
       "      <td>-116.4493</td>\n",
       "      <td>129</td>\n",
       "      <td>15-12-1965</td>\n",
       "      <td>1388534364</td>\n",
       "      <td>44.470525</td>\n",
       "      <td>-117.080888</td>\n",
       "      <td>0</td>\n",
       "      <td>1609459140000000000</td>\n",
       "    </tr>\n",
       "    <tr>\n",
       "      <th>555718</th>\n",
       "      <td>2020-12-31 23:59:00</td>\n",
       "      <td>38.13</td>\n",
       "      <td>830 Myers Plaza Apt. 384</td>\n",
       "      <td>73034</td>\n",
       "      <td>35.6665</td>\n",
       "      <td>-97.4798</td>\n",
       "      <td>116001</td>\n",
       "      <td>10-05-1993</td>\n",
       "      <td>1388534374</td>\n",
       "      <td>36.210097</td>\n",
       "      <td>-97.036372</td>\n",
       "      <td>0</td>\n",
       "      <td>1609459140000000000</td>\n",
       "    </tr>\n",
       "  </tbody>\n",
       "</table>\n",
       "<p>555719 rows × 13 columns</p>\n",
       "</div>"
      ],
      "text/plain": [
       "       trans_date_trans_time     amt                       street    zip  \\\n",
       "0        2020-06-21 12:14:00    2.86            351 Darlene Green  29209   \n",
       "1        2020-06-21 12:14:00   29.84             3638 Marsh Union  84002   \n",
       "2        2020-06-21 12:14:00   41.28         9333 Valentine Point  11710   \n",
       "3        2020-06-21 12:15:00   60.05  32941 Krystal Mill Apt. 552  32780   \n",
       "4        2020-06-21 12:15:00    3.19     5783 Evan Roads Apt. 465  49632   \n",
       "...                      ...     ...                          ...    ...   \n",
       "555714   2020-12-31 23:59:00   43.77          558 Michael Estates  63453   \n",
       "555715   2020-12-31 23:59:00  111.84          572 Davis Mountains  77566   \n",
       "555716   2020-12-31 23:59:00   86.88   144 Evans Islands Apt. 683  99323   \n",
       "555717   2020-12-31 23:59:00    7.99   7020 Doyle Stream Apt. 951  83643   \n",
       "555718   2020-12-31 23:59:00   38.13     830 Myers Plaza Apt. 384  73034   \n",
       "\n",
       "            lat      long  city_pop         dob   unix_time  merch_lat  \\\n",
       "0       33.9659  -80.9355    333497  19-03-1968  1371816865  33.986391   \n",
       "1       40.3207 -110.4360       302  17-01-1990  1371816873  39.450498   \n",
       "2       40.6729  -73.5365     34496  21-10-1970  1371816893  40.495810   \n",
       "3       28.5697  -80.8191     54767  25-07-1987  1371816915  28.812398   \n",
       "4       44.2529  -85.0170      1126  06-07-1955  1371816917  44.959148   \n",
       "...         ...       ...       ...         ...         ...        ...   \n",
       "555714  40.4931  -91.8912       519  13-02-1966  1388534347  39.946837   \n",
       "555715  29.0393  -95.4401     28739  27-12-1999  1388534349  29.661049   \n",
       "555716  46.1966 -118.9017      3684  29-11-1981  1388534355  46.658340   \n",
       "555717  44.6255 -116.4493       129  15-12-1965  1388534364  44.470525   \n",
       "555718  35.6665  -97.4798    116001  10-05-1993  1388534374  36.210097   \n",
       "\n",
       "        merch_long  is_fraud  trans_date_trans_time_int  \n",
       "0       -81.200714         0        1592741640000000000  \n",
       "1      -109.960431         0        1592741640000000000  \n",
       "2       -74.196111         0        1592741640000000000  \n",
       "3       -80.883061         0        1592741700000000000  \n",
       "4       -85.884734         0        1592741700000000000  \n",
       "...            ...       ...                        ...  \n",
       "555714  -91.333331         0        1609459140000000000  \n",
       "555715  -96.186633         0        1609459140000000000  \n",
       "555716 -119.715054         0        1609459140000000000  \n",
       "555717 -117.080888         0        1609459140000000000  \n",
       "555718  -97.036372         0        1609459140000000000  \n",
       "\n",
       "[555719 rows x 13 columns]"
      ]
     },
     "execution_count": 436,
     "metadata": {},
     "output_type": "execute_result"
    }
   ],
   "source": [
    "fraud_train.drop(columns=columns_to_be_encoded)\n",
    "fraud_test.drop(columns=columns_to_be_encoded)"
   ]
  },
  {
   "cell_type": "code",
   "execution_count": null,
   "id": "cf493fce-2c7a-411e-8ba6-85198bbae315",
   "metadata": {},
   "outputs": [],
   "source": [
    "from sklearn.linear_model import LogisticRegression"
   ]
  },
  {
   "cell_type": "code",
   "execution_count": null,
   "id": "9a3a0843-c9d4-4827-b3ab-fc52a78993f4",
   "metadata": {},
   "outputs": [],
   "source": [
    "my_model=LogisticRegression(random_state=0,max_iter=1000,solver='liblinear')\n",
    "X=fraud_train.drop(columns=[\"is_fraud\",\"category\",\"street\"])"
   ]
  },
  {
   "cell_type": "code",
   "execution_count": null,
   "id": "0534ab41-e939-4769-aacc-88e3389905fc",
   "metadata": {},
   "outputs": [],
   "source": [
    "y=fraud_train[\"is_fraud\"]"
   ]
  },
  {
   "cell_type": "code",
   "execution_count": null,
   "id": "a62dfbe6-02de-48c4-8991-a228d8f2176f",
   "metadata": {},
   "outputs": [
    {
     "name": "stdout",
     "output_type": "stream",
     "text": [
      "<class 'pandas.core.frame.DataFrame'>\n",
      "RangeIndex: 1048575 entries, 0 to 1048574\n",
      "Data columns (total 10 columns):\n",
      " #   Column                 Non-Null Count    Dtype         \n",
      "---  ------                 --------------    -----         \n",
      " 0   trans_date_trans_time  1048575 non-null  datetime64[ns]\n",
      " 1   amt                    1048575 non-null  float64       \n",
      " 2   zip                    1048575 non-null  int64         \n",
      " 3   lat                    1048575 non-null  float64       \n",
      " 4   long                   1048575 non-null  float64       \n",
      " 5   city_pop               1048575 non-null  int64         \n",
      " 6   dob                    1048575 non-null  datetime64[ns]\n",
      " 7   unix_time              1048575 non-null  datetime64[ns]\n",
      " 8   merch_lat              1048575 non-null  float64       \n",
      " 9   merch_long             1048575 non-null  float64       \n",
      "dtypes: datetime64[ns](3), float64(5), int64(2)\n",
      "memory usage: 80.0 MB\n"
     ]
    }
   ],
   "source": [
    "X.info()"
   ]
  },
  {
   "cell_type": "code",
   "execution_count": null,
   "id": "849d4156-52e9-4bce-9df4-672ac6947aac",
   "metadata": {},
   "outputs": [],
   "source": [
    "X['trans_date_trans_time'] = X['trans_date_trans_time'].astype('int64')\n",
    "X['dob'] = X['dob'].astype('int64')\n",
    "X['unix_time'] = X['unix_time'].astype('int64')"
   ]
  },
  {
   "cell_type": "code",
   "execution_count": null,
   "id": "22f14ca0-30de-4edf-b682-006500d1a6b0",
   "metadata": {},
   "outputs": [
    {
     "name": "stdout",
     "output_type": "stream",
     "text": [
      "<class 'pandas.core.frame.DataFrame'>\n",
      "RangeIndex: 1048575 entries, 0 to 1048574\n",
      "Data columns (total 10 columns):\n",
      " #   Column                 Non-Null Count    Dtype  \n",
      "---  ------                 --------------    -----  \n",
      " 0   trans_date_trans_time  1048575 non-null  int64  \n",
      " 1   amt                    1048575 non-null  float64\n",
      " 2   zip                    1048575 non-null  int64  \n",
      " 3   lat                    1048575 non-null  float64\n",
      " 4   long                   1048575 non-null  float64\n",
      " 5   city_pop               1048575 non-null  int64  \n",
      " 6   dob                    1048575 non-null  int64  \n",
      " 7   unix_time              1048575 non-null  int64  \n",
      " 8   merch_lat              1048575 non-null  float64\n",
      " 9   merch_long             1048575 non-null  float64\n",
      "dtypes: float64(5), int64(5)\n",
      "memory usage: 80.0 MB\n"
     ]
    }
   ],
   "source": [
    "\n",
    "X.info()"
   ]
  },
  {
   "cell_type": "code",
   "execution_count": null,
   "id": "cc045942-85d6-4b3f-ac5b-b58c1748d13b",
   "metadata": {},
   "outputs": [
    {
     "data": {
      "text/html": [
       "<style>#sk-container-id-15 {color: black;background-color: white;}#sk-container-id-15 pre{padding: 0;}#sk-container-id-15 div.sk-toggleable {background-color: white;}#sk-container-id-15 label.sk-toggleable__label {cursor: pointer;display: block;width: 100%;margin-bottom: 0;padding: 0.3em;box-sizing: border-box;text-align: center;}#sk-container-id-15 label.sk-toggleable__label-arrow:before {content: \"▸\";float: left;margin-right: 0.25em;color: #696969;}#sk-container-id-15 label.sk-toggleable__label-arrow:hover:before {color: black;}#sk-container-id-15 div.sk-estimator:hover label.sk-toggleable__label-arrow:before {color: black;}#sk-container-id-15 div.sk-toggleable__content {max-height: 0;max-width: 0;overflow: hidden;text-align: left;background-color: #f0f8ff;}#sk-container-id-15 div.sk-toggleable__content pre {margin: 0.2em;color: black;border-radius: 0.25em;background-color: #f0f8ff;}#sk-container-id-15 input.sk-toggleable__control:checked~div.sk-toggleable__content {max-height: 200px;max-width: 100%;overflow: auto;}#sk-container-id-15 input.sk-toggleable__control:checked~label.sk-toggleable__label-arrow:before {content: \"▾\";}#sk-container-id-15 div.sk-estimator input.sk-toggleable__control:checked~label.sk-toggleable__label {background-color: #d4ebff;}#sk-container-id-15 div.sk-label input.sk-toggleable__control:checked~label.sk-toggleable__label {background-color: #d4ebff;}#sk-container-id-15 input.sk-hidden--visually {border: 0;clip: rect(1px 1px 1px 1px);clip: rect(1px, 1px, 1px, 1px);height: 1px;margin: -1px;overflow: hidden;padding: 0;position: absolute;width: 1px;}#sk-container-id-15 div.sk-estimator {font-family: monospace;background-color: #f0f8ff;border: 1px dotted black;border-radius: 0.25em;box-sizing: border-box;margin-bottom: 0.5em;}#sk-container-id-15 div.sk-estimator:hover {background-color: #d4ebff;}#sk-container-id-15 div.sk-parallel-item::after {content: \"\";width: 100%;border-bottom: 1px solid gray;flex-grow: 1;}#sk-container-id-15 div.sk-label:hover label.sk-toggleable__label {background-color: #d4ebff;}#sk-container-id-15 div.sk-serial::before {content: \"\";position: absolute;border-left: 1px solid gray;box-sizing: border-box;top: 0;bottom: 0;left: 50%;z-index: 0;}#sk-container-id-15 div.sk-serial {display: flex;flex-direction: column;align-items: center;background-color: white;padding-right: 0.2em;padding-left: 0.2em;position: relative;}#sk-container-id-15 div.sk-item {position: relative;z-index: 1;}#sk-container-id-15 div.sk-parallel {display: flex;align-items: stretch;justify-content: center;background-color: white;position: relative;}#sk-container-id-15 div.sk-item::before, #sk-container-id-15 div.sk-parallel-item::before {content: \"\";position: absolute;border-left: 1px solid gray;box-sizing: border-box;top: 0;bottom: 0;left: 50%;z-index: -1;}#sk-container-id-15 div.sk-parallel-item {display: flex;flex-direction: column;z-index: 1;position: relative;background-color: white;}#sk-container-id-15 div.sk-parallel-item:first-child::after {align-self: flex-end;width: 50%;}#sk-container-id-15 div.sk-parallel-item:last-child::after {align-self: flex-start;width: 50%;}#sk-container-id-15 div.sk-parallel-item:only-child::after {width: 0;}#sk-container-id-15 div.sk-dashed-wrapped {border: 1px dashed gray;margin: 0 0.4em 0.5em 0.4em;box-sizing: border-box;padding-bottom: 0.4em;background-color: white;}#sk-container-id-15 div.sk-label label {font-family: monospace;font-weight: bold;display: inline-block;line-height: 1.2em;}#sk-container-id-15 div.sk-label-container {text-align: center;}#sk-container-id-15 div.sk-container {/* jupyter's `normalize.less` sets `[hidden] { display: none; }` but bootstrap.min.css set `[hidden] { display: none !important; }` so we also need the `!important` here to be able to override the default hidden behavior on the sphinx rendered scikit-learn.org. See: https://github.com/scikit-learn/scikit-learn/issues/21755 */display: inline-block !important;position: relative;}#sk-container-id-15 div.sk-text-repr-fallback {display: none;}</style><div id=\"sk-container-id-15\" class=\"sk-top-container\"><div class=\"sk-text-repr-fallback\"><pre>LogisticRegression(max_iter=1000, random_state=0, solver=&#x27;liblinear&#x27;)</pre><b>In a Jupyter environment, please rerun this cell to show the HTML representation or trust the notebook. <br />On GitHub, the HTML representation is unable to render, please try loading this page with nbviewer.org.</b></div><div class=\"sk-container\" hidden><div class=\"sk-item\"><div class=\"sk-estimator sk-toggleable\"><input class=\"sk-toggleable__control sk-hidden--visually\" id=\"sk-estimator-id-15\" type=\"checkbox\" checked><label for=\"sk-estimator-id-15\" class=\"sk-toggleable__label sk-toggleable__label-arrow\">LogisticRegression</label><div class=\"sk-toggleable__content\"><pre>LogisticRegression(max_iter=1000, random_state=0, solver=&#x27;liblinear&#x27;)</pre></div></div></div></div></div>"
      ],
      "text/plain": [
       "LogisticRegression(max_iter=1000, random_state=0, solver='liblinear')"
      ]
     },
     "execution_count": 443,
     "metadata": {},
     "output_type": "execute_result"
    }
   ],
   "source": [
    "my_model.fit(X,y)"
   ]
  },
  {
   "cell_type": "code",
   "execution_count": null,
   "id": "6ff97caf-9937-4a24-8e0e-169c7efbbbfd",
   "metadata": {},
   "outputs": [],
   "source": [
    "X_train = preprocess_data(fraud_train.drop(columns=[\"is_fraud\"]))\n",
    "y_train = fraud_train[\"is_fraud\"]"
   ]
  },
  {
   "cell_type": "code",
   "execution_count": null,
   "id": "e1265ce5-61ab-468b-850e-056944298fa1",
   "metadata": {},
   "outputs": [],
   "source": [
    "fraud_test['trans_date_trans_time'] = pd.to_datetime(fraud_test['trans_date_trans_time'])\n",
    "fraud_test['dob'] = pd.to_datetime(fraud_test['dob'], format='%d-%m-%Y', errors='coerce')"
   ]
  },
  {
   "cell_type": "code",
   "execution_count": null,
   "id": "5137f247-8ec8-4803-b7c3-2de088f2023c",
   "metadata": {},
   "outputs": [],
   "source": [
    "X_val['trans_date_trans_time'] = X_val['trans_date_trans_time'].astype('int64')\n",
    "X_val['dob'] = X_val['dob'].astype('int64')\n",
    "X_val['unix_time'] = X_val['unix_time'].astype('int64')\n"
   ]
  },
  {
   "cell_type": "code",
   "execution_count": null,
   "id": "8866fd91-957e-44c3-bf87-1a96517234b6",
   "metadata": {},
   "outputs": [
    {
     "name": "stdout",
     "output_type": "stream",
     "text": [
      "<class 'pandas.core.frame.DataFrame'>\n",
      "RangeIndex: 555719 entries, 0 to 555718\n",
      "Data columns (total 11 columns):\n",
      " #   Column                     Non-Null Count   Dtype  \n",
      "---  ------                     --------------   -----  \n",
      " 0   trans_date_trans_time      555719 non-null  int64  \n",
      " 1   amt                        555719 non-null  float64\n",
      " 2   zip                        555719 non-null  int64  \n",
      " 3   lat                        555719 non-null  float64\n",
      " 4   long                       555719 non-null  float64\n",
      " 5   city_pop                   555719 non-null  int64  \n",
      " 6   dob                        555719 non-null  int64  \n",
      " 7   unix_time                  555719 non-null  int64  \n",
      " 8   merch_lat                  555719 non-null  float64\n",
      " 9   merch_long                 555719 non-null  float64\n",
      " 10  trans_date_trans_time_int  555719 non-null  int64  \n",
      "dtypes: float64(5), int64(6)\n",
      "memory usage: 46.6 MB\n"
     ]
    }
   ],
   "source": [
    "X_val.info()"
   ]
  },
  {
   "cell_type": "code",
   "execution_count": null,
   "id": "d60a0e8f-dee2-448b-8ee7-0486d0cf649a",
   "metadata": {},
   "outputs": [],
   "source": [
    "y_val = fraud_test[\"is_fraud\"]"
   ]
  },
  {
   "cell_type": "code",
   "execution_count": null,
   "id": "17d89f18-b4d1-4c9b-b1a1-a596f738fd32",
   "metadata": {},
   "outputs": [
    {
     "name": "stdout",
     "output_type": "stream",
     "text": [
      "<class 'pandas.core.series.Series'>\n",
      "RangeIndex: 555719 entries, 0 to 555718\n",
      "Series name: is_fraud\n",
      "Non-Null Count   Dtype\n",
      "--------------   -----\n",
      "555719 non-null  int64\n",
      "dtypes: int64(1)\n",
      "memory usage: 4.2 MB\n"
     ]
    }
   ],
   "source": [
    "\n",
    "y_val.info()"
   ]
  },
  {
   "cell_type": "code",
   "execution_count": null,
   "id": "41bb85b3-2001-409a-8429-e652d670c2c0",
   "metadata": {},
   "outputs": [],
   "source": []
  }
 ],
 "metadata": {
  "kernelspec": {
   "display_name": "Python 3 (ipykernel)",
   "language": "python",
   "name": "python3"
  },
  "language_info": {
   "codemirror_mode": {
    "name": "ipython",
    "version": 3
   },
   "file_extension": ".py",
   "mimetype": "text/x-python",
   "name": "python",
   "nbconvert_exporter": "python",
   "pygments_lexer": "ipython3",
   "version": "3.11.7"
  }
 },
 "nbformat": 4,
 "nbformat_minor": 5
}
