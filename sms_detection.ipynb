{
 "cells": [
  {
   "cell_type": "code",
   "execution_count": 156,
   "id": "07a1ca4d-f88a-445d-9f26-405c21f6f441",
   "metadata": {},
   "outputs": [],
   "source": [
    "import numpy as np # linear algebra\n",
    "import pandas as pd # data processing, CSV file I/O (e.g. pd.read_csv)\n",
    "from sklearn.model_selection import train_test_split\n",
    "from sklearn.feature_extraction.text import TfidfVectorizer\n",
    "from sklearn.linear_model  import LogisticRegression\n",
    "from sklearn.metrics import accuracy_score\n",
    "from sklearn.svm import SVC\n",
    "from sklearn.naive_bayes import MultinomialNB"
   ]
  },
  {
   "cell_type": "code",
   "execution_count": 157,
   "id": "0ea47559-f4a9-4ef5-8f75-e7a77bfd8c8b",
   "metadata": {},
   "outputs": [],
   "source": [
    "db=pd.read_csv(\"C:\\\\Users\\\\sanjay kumar saini\\\\OneDrive\\\\Desktop\\\\maths\\\\spam.csv\",encoding = \"ISO-8859-1\")"
   ]
  },
  {
   "cell_type": "code",
   "execution_count": 158,
   "id": "5058ba74-d5a5-4a25-b666-79ac8384dc6b",
   "metadata": {},
   "outputs": [
    {
     "name": "stdout",
     "output_type": "stream",
     "text": [
      "        v1                                                 v2 Unnamed: 2  \\\n",
      "0      ham  Go until jurong point, crazy.. Available only ...        NaN   \n",
      "1      ham                      Ok lar... Joking wif u oni...        NaN   \n",
      "2     spam  Free entry in 2 a wkly comp to win FA Cup fina...        NaN   \n",
      "3      ham  U dun say so early hor... U c already then say...        NaN   \n",
      "4      ham  Nah I don't think he goes to usf, he lives aro...        NaN   \n",
      "...    ...                                                ...        ...   \n",
      "5567  spam  This is the 2nd time we have tried 2 contact u...        NaN   \n",
      "5568   ham              Will Ì_ b going to esplanade fr home?        NaN   \n",
      "5569   ham  Pity, * was in mood for that. So...any other s...        NaN   \n",
      "5570   ham  The guy did some bitching but I acted like i'd...        NaN   \n",
      "5571   ham                         Rofl. Its true to its name        NaN   \n",
      "\n",
      "     Unnamed: 3 Unnamed: 4  \n",
      "0           NaN        NaN  \n",
      "1           NaN        NaN  \n",
      "2           NaN        NaN  \n",
      "3           NaN        NaN  \n",
      "4           NaN        NaN  \n",
      "...         ...        ...  \n",
      "5567        NaN        NaN  \n",
      "5568        NaN        NaN  \n",
      "5569        NaN        NaN  \n",
      "5570        NaN        NaN  \n",
      "5571        NaN        NaN  \n",
      "\n",
      "[5572 rows x 5 columns]\n"
     ]
    }
   ],
   "source": [
    "print(db)"
   ]
  },
  {
   "cell_type": "code",
   "execution_count": 159,
   "id": "930c2327-d80d-455f-aa15-ff0d44bd0bcc",
   "metadata": {},
   "outputs": [
    {
     "data": {
      "text/plain": [
       "Index(['v1', 'v2', 'Unnamed: 2', 'Unnamed: 3', 'Unnamed: 4'], dtype='object')"
      ]
     },
     "execution_count": 159,
     "metadata": {},
     "output_type": "execute_result"
    }
   ],
   "source": [
    "db.columns"
   ]
  },
  {
   "cell_type": "code",
   "execution_count": 160,
   "id": "2bc1f7b2-626e-42bc-947b-0b4d9d1ddf64",
   "metadata": {},
   "outputs": [],
   "source": [
    "db = db.drop(columns=[\"Unnamed: 2\",\"Unnamed: 3\",\"Unnamed: 4\"])"
   ]
  },
  {
   "cell_type": "code",
   "execution_count": 161,
   "id": "41fa41ed-6ebd-45d2-b616-1186c3334e1d",
   "metadata": {},
   "outputs": [
    {
     "data": {
      "text/html": [
       "<div>\n",
       "<style scoped>\n",
       "    .dataframe tbody tr th:only-of-type {\n",
       "        vertical-align: middle;\n",
       "    }\n",
       "\n",
       "    .dataframe tbody tr th {\n",
       "        vertical-align: top;\n",
       "    }\n",
       "\n",
       "    .dataframe thead th {\n",
       "        text-align: right;\n",
       "    }\n",
       "</style>\n",
       "<table border=\"1\" class=\"dataframe\">\n",
       "  <thead>\n",
       "    <tr style=\"text-align: right;\">\n",
       "      <th></th>\n",
       "      <th>v1</th>\n",
       "      <th>v2</th>\n",
       "    </tr>\n",
       "  </thead>\n",
       "  <tbody>\n",
       "    <tr>\n",
       "      <th>0</th>\n",
       "      <td>ham</td>\n",
       "      <td>Go until jurong point, crazy.. Available only ...</td>\n",
       "    </tr>\n",
       "    <tr>\n",
       "      <th>1</th>\n",
       "      <td>ham</td>\n",
       "      <td>Ok lar... Joking wif u oni...</td>\n",
       "    </tr>\n",
       "    <tr>\n",
       "      <th>2</th>\n",
       "      <td>spam</td>\n",
       "      <td>Free entry in 2 a wkly comp to win FA Cup fina...</td>\n",
       "    </tr>\n",
       "    <tr>\n",
       "      <th>3</th>\n",
       "      <td>ham</td>\n",
       "      <td>U dun say so early hor... U c already then say...</td>\n",
       "    </tr>\n",
       "    <tr>\n",
       "      <th>4</th>\n",
       "      <td>ham</td>\n",
       "      <td>Nah I don't think he goes to usf, he lives aro...</td>\n",
       "    </tr>\n",
       "  </tbody>\n",
       "</table>\n",
       "</div>"
      ],
      "text/plain": [
       "     v1                                                 v2\n",
       "0   ham  Go until jurong point, crazy.. Available only ...\n",
       "1   ham                      Ok lar... Joking wif u oni...\n",
       "2  spam  Free entry in 2 a wkly comp to win FA Cup fina...\n",
       "3   ham  U dun say so early hor... U c already then say...\n",
       "4   ham  Nah I don't think he goes to usf, he lives aro..."
      ]
     },
     "execution_count": 161,
     "metadata": {},
     "output_type": "execute_result"
    }
   ],
   "source": [
    "db.head()"
   ]
  },
  {
   "cell_type": "code",
   "execution_count": 162,
   "id": "c8724c96-ba8e-4790-87ea-863936cad087",
   "metadata": {},
   "outputs": [
    {
     "name": "stdout",
     "output_type": "stream",
     "text": [
      "<class 'pandas.core.frame.DataFrame'>\n",
      "RangeIndex: 5572 entries, 0 to 5571\n",
      "Data columns (total 2 columns):\n",
      " #   Column  Non-Null Count  Dtype \n",
      "---  ------  --------------  ----- \n",
      " 0   v1      5572 non-null   object\n",
      " 1   v2      5572 non-null   object\n",
      "dtypes: object(2)\n",
      "memory usage: 87.2+ KB\n"
     ]
    }
   ],
   "source": [
    "db.info()"
   ]
  },
  {
   "cell_type": "code",
   "execution_count": 163,
   "id": "65c2512f-d726-4526-845d-9f6db15d665b",
   "metadata": {},
   "outputs": [
    {
     "data": {
      "text/plain": [
       "(5572, 2)"
      ]
     },
     "execution_count": 163,
     "metadata": {},
     "output_type": "execute_result"
    }
   ],
   "source": [
    "db.shape"
   ]
  },
  {
   "cell_type": "code",
   "execution_count": 164,
   "id": "388c0e98-df5c-4c6d-83a2-a24ea4daee4b",
   "metadata": {},
   "outputs": [],
   "source": [
    "db.loc[db['v1'] == 'spam','v1',] = 0\n",
    "db.loc[db['v1'] == 'ham','v1',] = 1"
   ]
  },
  {
   "cell_type": "code",
   "execution_count": 165,
   "id": "af74842d-2ef4-4257-b8eb-0b7d8bd4453e",
   "metadata": {},
   "outputs": [],
   "source": [
    "X = db['v2']\n",
    "Y = db['v1']"
   ]
  },
  {
   "cell_type": "code",
   "execution_count": 166,
   "id": "ff397bcc-a1c0-4fcd-91a0-14df0ac55a91",
   "metadata": {},
   "outputs": [
    {
     "name": "stdout",
     "output_type": "stream",
     "text": [
      "<class 'pandas.core.series.Series'>\n",
      "RangeIndex: 5572 entries, 0 to 5571\n",
      "Series name: v2\n",
      "Non-Null Count  Dtype \n",
      "--------------  ----- \n",
      "5572 non-null   object\n",
      "dtypes: object(1)\n",
      "memory usage: 43.7+ KB\n"
     ]
    }
   ],
   "source": [
    "X.info()"
   ]
  },
  {
   "cell_type": "code",
   "execution_count": 167,
   "id": "3ef5af4e-c1c7-4cfd-88af-402d897c49d3",
   "metadata": {},
   "outputs": [
    {
     "name": "stdout",
     "output_type": "stream",
     "text": [
      "<class 'pandas.core.series.Series'>\n",
      "RangeIndex: 5572 entries, 0 to 5571\n",
      "Series name: v1\n",
      "Non-Null Count  Dtype \n",
      "--------------  ----- \n",
      "5572 non-null   object\n",
      "dtypes: object(1)\n",
      "memory usage: 43.7+ KB\n"
     ]
    }
   ],
   "source": [
    "Y.info()"
   ]
  },
  {
   "cell_type": "code",
   "execution_count": 168,
   "id": "688e309f-e16c-4656-b0ed-6c2dd00f2cf0",
   "metadata": {},
   "outputs": [
    {
     "name": "stdout",
     "output_type": "stream",
     "text": [
      "0       Go until jurong point, crazy.. Available only ...\n",
      "1                           Ok lar... Joking wif u oni...\n",
      "2       Free entry in 2 a wkly comp to win FA Cup fina...\n",
      "3       U dun say so early hor... U c already then say...\n",
      "4       Nah I don't think he goes to usf, he lives aro...\n",
      "                              ...                        \n",
      "5567    This is the 2nd time we have tried 2 contact u...\n",
      "5568                Will Ì_ b going to esplanade fr home?\n",
      "5569    Pity, * was in mood for that. So...any other s...\n",
      "5570    The guy did some bitching but I acted like i'd...\n",
      "5571                           Rofl. Its true to its name\n",
      "Name: v2, Length: 5572, dtype: object\n"
     ]
    }
   ],
   "source": [
    "print(X)"
   ]
  },
  {
   "cell_type": "code",
   "execution_count": 169,
   "id": "87efca66-35e5-4410-b134-09414485e081",
   "metadata": {},
   "outputs": [
    {
     "name": "stdout",
     "output_type": "stream",
     "text": [
      "0       1\n",
      "1       1\n",
      "2       0\n",
      "3       1\n",
      "4       1\n",
      "       ..\n",
      "5567    0\n",
      "5568    1\n",
      "5569    1\n",
      "5570    1\n",
      "5571    1\n",
      "Name: v1, Length: 5572, dtype: object\n"
     ]
    }
   ],
   "source": [
    "print(Y)"
   ]
  },
  {
   "cell_type": "code",
   "execution_count": 170,
   "id": "67e11056-cb72-4404-84de-0834741bd6ed",
   "metadata": {},
   "outputs": [],
   "source": [
    "X_train,X_test,Y_train,Y_test = train_test_split(X,Y,test_size=0.2,random_state = 3)"
   ]
  },
  {
   "cell_type": "code",
   "execution_count": 171,
   "id": "94bb71b7-efbf-4102-93ed-6047fad02021",
   "metadata": {},
   "outputs": [
    {
     "name": "stdout",
     "output_type": "stream",
     "text": [
      "(5572,)\n",
      "(4457,)\n",
      "(1115,)\n"
     ]
    }
   ],
   "source": [
    "print(X.shape)\n",
    "print(X_train.shape)\n",
    "print(X_test.shape)"
   ]
  },
  {
   "cell_type": "code",
   "execution_count": 172,
   "id": "ba0da080-3eba-4464-bdc1-1c4d4b6cec32",
   "metadata": {},
   "outputs": [
    {
     "name": "stdout",
     "output_type": "stream",
     "text": [
      "(5572,)\n",
      "(4457,)\n",
      "(1115,)\n"
     ]
    }
   ],
   "source": [
    "print(Y.shape)\n",
    "print(Y_train.shape)\n",
    "print(Y_test.shape)"
   ]
  },
  {
   "cell_type": "code",
   "execution_count": 173,
   "id": "0c60b638-7e48-4b8c-a40c-254bd88bf2bd",
   "metadata": {},
   "outputs": [],
   "source": [
    "tfidf = TfidfVectorizer(min_df=1, stop_words='english', lowercase=True)  # Corrected lowercase parameter\n",
    "X_train_features = tfidf.fit_transform(X_train)\n",
    "X_test_features = tfidf.transform(X_test)\n",
    "Y_train = Y_train.astype('int')\n",
    "Y_test = Y_test.astype('int')"
   ]
  },
  {
   "cell_type": "code",
   "execution_count": 183,
   "id": "2a406b40-5fa6-4604-b565-31b6853b2fd9",
   "metadata": {},
   "outputs": [
    {
     "name": "stdout",
     "output_type": "stream",
     "text": [
      "<class 'pandas.core.series.Series'>\n",
      "Index: 4457 entries, 3075 to 1688\n",
      "Series name: v2\n",
      "Non-Null Count  Dtype \n",
      "--------------  ----- \n",
      "4457 non-null   object\n",
      "dtypes: object(1)\n",
      "memory usage: 69.6+ KB\n"
     ]
    }
   ],
   "source": [
    "X_train.info()"
   ]
  },
  {
   "cell_type": "code",
   "execution_count": 174,
   "id": "6f0fe20d-2b62-4373-ba65-3b1044bce240",
   "metadata": {},
   "outputs": [
    {
     "name": "stdout",
     "output_type": "stream",
     "text": [
      "3075    Mum, hope you are having a great day. Hoping t...\n",
      "1787                           Yes:)sura in sun tv.:)lol.\n",
      "1614    Me sef dey laugh you. Meanwhile how's my darli...\n",
      "4304                Yo come over carlos will be here soon\n",
      "3266                    Ok then i come n pick u at engin?\n",
      "                              ...                        \n",
      "789                          Gud mrng dear hav a nice day\n",
      "968             Are you willing to go for aptitude class.\n",
      "1667    So now my dad is gonna call after he gets out ...\n",
      "3321    Ok darlin i supose it was ok i just worry too ...\n",
      "1688                     Nan sonathaya soladha. Why boss?\n",
      "Name: v2, Length: 4457, dtype: object\n"
     ]
    }
   ],
   "source": [
    "print(X_train)"
   ]
  },
  {
   "cell_type": "code",
   "execution_count": 185,
   "id": "bc388836-739b-4526-9d5f-a24a3ee20c83",
   "metadata": {},
   "outputs": [
    {
     "name": "stdout",
     "output_type": "stream",
     "text": [
      "  (0, 741)\t0.3219352588930141\n",
      "  (0, 3979)\t0.2410582143632299\n",
      "  (0, 4296)\t0.3891385935794867\n",
      "  (0, 6599)\t0.20296878731699391\n",
      "  (0, 3386)\t0.3219352588930141\n",
      "  (0, 2122)\t0.38613577623520473\n",
      "  (0, 3136)\t0.440116181574609\n",
      "  (0, 3262)\t0.25877035357606315\n",
      "  (0, 3380)\t0.21807195185332803\n",
      "  (0, 4513)\t0.2909649098524696\n",
      "  (1, 4061)\t0.380431198316959\n",
      "  (1, 6872)\t0.4306015894277422\n",
      "  (1, 6417)\t0.4769136859540388\n",
      "  (1, 6442)\t0.5652509076654626\n",
      "  (1, 7443)\t0.35056971070320353\n",
      "  (2, 933)\t0.4917598465723273\n",
      "  (2, 2109)\t0.42972812260098503\n",
      "  (2, 3917)\t0.40088501350982736\n",
      "  (2, 2226)\t0.413484525934624\n",
      "  (2, 5825)\t0.4917598465723273\n",
      "  (3, 6140)\t0.4903863168693604\n",
      "  (3, 1599)\t0.5927091854194291\n",
      "  (3, 1842)\t0.3708680641487708\n",
      "  (3, 7453)\t0.5202633571003087\n",
      "  (4, 2531)\t0.7419319091456392\n",
      "  :\t:\n",
      "  (4452, 2122)\t0.31002103760284144\n",
      "  (4453, 999)\t0.6760129013031282\n",
      "  (4453, 7273)\t0.5787739591782677\n",
      "  (4453, 1762)\t0.45610005640082985\n",
      "  (4454, 3029)\t0.42618909997886\n",
      "  (4454, 2086)\t0.3809693742808703\n",
      "  (4454, 3088)\t0.34475593009514444\n",
      "  (4454, 2001)\t0.4166919007849217\n",
      "  (4454, 1049)\t0.31932060116006045\n",
      "  (4454, 7346)\t0.31166263834107377\n",
      "  (4454, 5370)\t0.42618909997886\n",
      "  (4455, 1148)\t0.38998123077430413\n",
      "  (4455, 6433)\t0.38998123077430413\n",
      "  (4455, 6361)\t0.25697343671652706\n",
      "  (4455, 2764)\t0.3226323745940581\n",
      "  (4455, 7358)\t0.2915949626395065\n",
      "  (4455, 7407)\t0.3028481995557642\n",
      "  (4455, 2108)\t0.3136468384526087\n",
      "  (4455, 4251)\t0.30616657078392584\n",
      "  (4455, 3763)\t0.16807158405536876\n",
      "  (4455, 4773)\t0.35860460546223444\n",
      "  (4456, 6117)\t0.5304350313291551\n",
      "  (4456, 6133)\t0.5304350313291551\n",
      "  (4456, 1386)\t0.4460036316446079\n",
      "  (4456, 4557)\t0.48821933148688146\n"
     ]
    }
   ],
   "source": [
    "print(X_train_features)"
   ]
  },
  {
   "cell_type": "code",
   "execution_count": 176,
   "id": "04dab5d9-f29a-4024-97fa-dd647f38862c",
   "metadata": {},
   "outputs": [],
   "source": [
    "model = LogisticRegression()"
   ]
  },
  {
   "cell_type": "code",
   "execution_count": 177,
   "id": "ae00e56e-303c-4bb0-9004-3e3f6f0e0b81",
   "metadata": {},
   "outputs": [
    {
     "data": {
      "text/html": [
       "<style>#sk-container-id-3 {color: black;background-color: white;}#sk-container-id-3 pre{padding: 0;}#sk-container-id-3 div.sk-toggleable {background-color: white;}#sk-container-id-3 label.sk-toggleable__label {cursor: pointer;display: block;width: 100%;margin-bottom: 0;padding: 0.3em;box-sizing: border-box;text-align: center;}#sk-container-id-3 label.sk-toggleable__label-arrow:before {content: \"▸\";float: left;margin-right: 0.25em;color: #696969;}#sk-container-id-3 label.sk-toggleable__label-arrow:hover:before {color: black;}#sk-container-id-3 div.sk-estimator:hover label.sk-toggleable__label-arrow:before {color: black;}#sk-container-id-3 div.sk-toggleable__content {max-height: 0;max-width: 0;overflow: hidden;text-align: left;background-color: #f0f8ff;}#sk-container-id-3 div.sk-toggleable__content pre {margin: 0.2em;color: black;border-radius: 0.25em;background-color: #f0f8ff;}#sk-container-id-3 input.sk-toggleable__control:checked~div.sk-toggleable__content {max-height: 200px;max-width: 100%;overflow: auto;}#sk-container-id-3 input.sk-toggleable__control:checked~label.sk-toggleable__label-arrow:before {content: \"▾\";}#sk-container-id-3 div.sk-estimator input.sk-toggleable__control:checked~label.sk-toggleable__label {background-color: #d4ebff;}#sk-container-id-3 div.sk-label input.sk-toggleable__control:checked~label.sk-toggleable__label {background-color: #d4ebff;}#sk-container-id-3 input.sk-hidden--visually {border: 0;clip: rect(1px 1px 1px 1px);clip: rect(1px, 1px, 1px, 1px);height: 1px;margin: -1px;overflow: hidden;padding: 0;position: absolute;width: 1px;}#sk-container-id-3 div.sk-estimator {font-family: monospace;background-color: #f0f8ff;border: 1px dotted black;border-radius: 0.25em;box-sizing: border-box;margin-bottom: 0.5em;}#sk-container-id-3 div.sk-estimator:hover {background-color: #d4ebff;}#sk-container-id-3 div.sk-parallel-item::after {content: \"\";width: 100%;border-bottom: 1px solid gray;flex-grow: 1;}#sk-container-id-3 div.sk-label:hover label.sk-toggleable__label {background-color: #d4ebff;}#sk-container-id-3 div.sk-serial::before {content: \"\";position: absolute;border-left: 1px solid gray;box-sizing: border-box;top: 0;bottom: 0;left: 50%;z-index: 0;}#sk-container-id-3 div.sk-serial {display: flex;flex-direction: column;align-items: center;background-color: white;padding-right: 0.2em;padding-left: 0.2em;position: relative;}#sk-container-id-3 div.sk-item {position: relative;z-index: 1;}#sk-container-id-3 div.sk-parallel {display: flex;align-items: stretch;justify-content: center;background-color: white;position: relative;}#sk-container-id-3 div.sk-item::before, #sk-container-id-3 div.sk-parallel-item::before {content: \"\";position: absolute;border-left: 1px solid gray;box-sizing: border-box;top: 0;bottom: 0;left: 50%;z-index: -1;}#sk-container-id-3 div.sk-parallel-item {display: flex;flex-direction: column;z-index: 1;position: relative;background-color: white;}#sk-container-id-3 div.sk-parallel-item:first-child::after {align-self: flex-end;width: 50%;}#sk-container-id-3 div.sk-parallel-item:last-child::after {align-self: flex-start;width: 50%;}#sk-container-id-3 div.sk-parallel-item:only-child::after {width: 0;}#sk-container-id-3 div.sk-dashed-wrapped {border: 1px dashed gray;margin: 0 0.4em 0.5em 0.4em;box-sizing: border-box;padding-bottom: 0.4em;background-color: white;}#sk-container-id-3 div.sk-label label {font-family: monospace;font-weight: bold;display: inline-block;line-height: 1.2em;}#sk-container-id-3 div.sk-label-container {text-align: center;}#sk-container-id-3 div.sk-container {/* jupyter's `normalize.less` sets `[hidden] { display: none; }` but bootstrap.min.css set `[hidden] { display: none !important; }` so we also need the `!important` here to be able to override the default hidden behavior on the sphinx rendered scikit-learn.org. See: https://github.com/scikit-learn/scikit-learn/issues/21755 */display: inline-block !important;position: relative;}#sk-container-id-3 div.sk-text-repr-fallback {display: none;}</style><div id=\"sk-container-id-3\" class=\"sk-top-container\"><div class=\"sk-text-repr-fallback\"><pre>LogisticRegression()</pre><b>In a Jupyter environment, please rerun this cell to show the HTML representation or trust the notebook. <br />On GitHub, the HTML representation is unable to render, please try loading this page with nbviewer.org.</b></div><div class=\"sk-container\" hidden><div class=\"sk-item\"><div class=\"sk-estimator sk-toggleable\"><input class=\"sk-toggleable__control sk-hidden--visually\" id=\"sk-estimator-id-3\" type=\"checkbox\" checked><label for=\"sk-estimator-id-3\" class=\"sk-toggleable__label sk-toggleable__label-arrow\">LogisticRegression</label><div class=\"sk-toggleable__content\"><pre>LogisticRegression()</pre></div></div></div></div></div>"
      ],
      "text/plain": [
       "LogisticRegression()"
      ]
     },
     "execution_count": 177,
     "metadata": {},
     "output_type": "execute_result"
    }
   ],
   "source": [
    "model.fit(X_train_features, Y_train)"
   ]
  },
  {
   "cell_type": "code",
   "execution_count": 178,
   "id": "2f3763a4-6209-423c-9d4b-379c06bfdbfc",
   "metadata": {},
   "outputs": [],
   "source": [
    "prediction_train = model.predict(X_train_features)\n",
    "accuracy_train = accuracy_score(Y_train,prediction_train)"
   ]
  },
  {
   "cell_type": "code",
   "execution_count": 179,
   "id": "de05fa11-990e-4505-a9b0-b97d5b5cc804",
   "metadata": {},
   "outputs": [
    {
     "name": "stdout",
     "output_type": "stream",
     "text": [
      "Accuracy on training data :  0.9661207089970832\n"
     ]
    }
   ],
   "source": [
    "print('Accuracy on training data : ',accuracy_train)"
   ]
  },
  {
   "cell_type": "code",
   "execution_count": 180,
   "id": "64bc30fa-b071-44b7-8a8f-12235882baa2",
   "metadata": {},
   "outputs": [],
   "source": [
    "prediction_test = model.predict(X_test_features)\n",
    "accuracy_test = accuracy_score(Y_test,prediction_test)"
   ]
  },
  {
   "cell_type": "code",
   "execution_count": 181,
   "id": "55631866-ec57-49da-89b0-f8324c8011bb",
   "metadata": {},
   "outputs": [
    {
     "name": "stdout",
     "output_type": "stream",
     "text": [
      "Accuracy on training data :  0.9623318385650225\n"
     ]
    }
   ],
   "source": [
    "print('Accuracy on training data : ',accuracy_test)"
   ]
  },
  {
   "cell_type": "code",
   "execution_count": 182,
   "id": "b13d118a-0265-4e1f-af39-3c8ea350dd54",
   "metadata": {},
   "outputs": [
    {
     "name": "stdout",
     "output_type": "stream",
     "text": [
      "ham mail\n"
     ]
    }
   ],
   "source": [
    "input_your_mail = [\"\"]\n",
    "\n",
    "# Transform the input data using the same TF-IDF vectorizer\n",
    "input_data = tfidf.transform(input_your_mail)\n",
    "\n",
    "# Predict using the trained model (ensure 'model' is the trained model you want to use, e.g., the best performing one)\n",
    "prediction = model.predict(input_data)\n",
    "\n",
    "# Print the prediction\n",
    "if prediction[0] == 1:\n",
    "    print('ham mail')\n",
    "else:\n",
    "    print('spam mail')"
   ]
  }
 ],
 "metadata": {
  "kernelspec": {
   "display_name": "Python 3 (ipykernel)",
   "language": "python",
   "name": "python3"
  },
  "language_info": {
   "codemirror_mode": {
    "name": "ipython",
    "version": 3
   },
   "file_extension": ".py",
   "mimetype": "text/x-python",
   "name": "python",
   "nbconvert_exporter": "python",
   "pygments_lexer": "ipython3",
   "version": "3.11.7"
  }
 },
 "nbformat": 4,
 "nbformat_minor": 5
}
